{
  "nbformat": 4,
  "nbformat_minor": 0,
  "metadata": {
    "colab": {
      "provenance": [],
      "include_colab_link": true
    },
    "kernelspec": {
      "name": "python3",
      "display_name": "Python 3"
    },
    "language_info": {
      "name": "python"
    }
  },
  "cells": [
    {
      "cell_type": "markdown",
      "metadata": {
        "id": "view-in-github",
        "colab_type": "text"
      },
      "source": [
        "<a href=\"https://colab.research.google.com/github/Juangarzon2345/11-agosto/blob/main/untitled0.ipynb\" target=\"_parent\"><img src=\"https://colab.research.google.com/assets/colab-badge.svg\" alt=\"Open In Colab\"/></a>"
      ]
    },
    {
      "cell_type": "code",
      "source": [
        "nombre= \"juan esteban\"\n",
        "edad= \"24\"\n",
        "\n",
        "print(\"me llamo\", nombre , \"y tengo\" , edad ,)\n",
        "\n",
        "#sincronizar cambios nuevos\n"
      ],
      "metadata": {
        "colab": {
          "base_uri": "https://localhost:8080/",
          "height": 52
        },
        "id": "Vy13vHp-9cPl",
        "outputId": "473950bb-522f-4e0a-e7ee-57adea868636"
      },
      "execution_count": null,
      "outputs": [
        {
          "output_type": "stream",
          "name": "stdout",
          "text": [
            "me llamo juan esteban y tengo 24\n"
          ]
        },
        {
          "output_type": "execute_result",
          "data": {
            "text/plain": [
              "'juan perez'"
            ],
            "application/vnd.google.colaboratory.intrinsic+json": {
              "type": "string"
            }
          },
          "metadata": {},
          "execution_count": 4
        }
      ]
    },
    {
      "cell_type": "code",
      "execution_count": null,
      "metadata": {
        "id": "siNlQQ6_9PXR",
        "colab": {
          "base_uri": "https://localhost:8080/"
        },
        "outputId": "fe3815b6-531e-424f-aa22-98dce28594a2"
      },
      "outputs": [
        {
          "output_type": "execute_result",
          "data": {
            "text/plain": [
              "3"
            ]
          },
          "metadata": {},
          "execution_count": 19
        }
      ],
      "source": [
        "#ejemplo diccionario\n",
        "\n",
        "mi_diccionario={\"12345\": \"juan esteban\" ,\n",
        "                \"5678\" : \" juan perez\" ,\n",
        "                \"12356\" : \"pedro perez\"}\n",
        "\n",
        "otro_diccionario = { 1: \"juan esteban\",\n",
        "                    2: \"juan perez\" ,\n",
        "                     3: \"pedro perez \"}\n",
        "\n",
        "tercer_diccionario = { 1: [1,2,3,4,5,],\n",
        "                      2 : [5,6,7,8,9],\n",
        "                       3: [1,2,3,3],\n",
        "}\n",
        "\n",
        "tercer_diccionario[3][2]\n",
        "\n",
        "#este codigo es para sacar un numero o valor dentro de las llaves en este caso el numero es 3\n"
      ]
    },
    {
      "cell_type": "code",
      "source": [
        "cuarto_diccionario = { 1 : [1,2,3,4,5,[5,6,7,8,9,[6,7,8]]],\n",
        "2: [5,6,7,8,9],\n",
        "3: {1:2,2:3,6:[9,10,'extraer este valor']}\n",
        "}\n",
        "\n",
        "#ejercicio\n",
        "#extraer el texto\n",
        "\n",
        "cuarto_diccionario[1][5][5][2]\n"
      ],
      "metadata": {
        "colab": {
          "base_uri": "https://localhost:8080/"
        },
        "id": "KRmJz-pzIGw7",
        "outputId": "e4b08e64-5acd-4128-be59-66b24cf963e0"
      },
      "execution_count": null,
      "outputs": [
        {
          "output_type": "execute_result",
          "data": {
            "text/plain": [
              "8"
            ]
          },
          "metadata": {},
          "execution_count": 30
        }
      ]
    },
    {
      "cell_type": "code",
      "source": [
        "cuarto_diccionario[3][6][2]\n",
        "\n",
        "#este codigo es para sacar cada valor de las llaves cuadradas los dos ejercicios de cuarto diccionario\n"
      ],
      "metadata": {
        "colab": {
          "base_uri": "https://localhost:8080/",
          "height": 35
        },
        "id": "D4LhyKy0JBGg",
        "outputId": "5096693e-d963-4109-d753-fc30b484eedf"
      },
      "execution_count": null,
      "outputs": [
        {
          "output_type": "execute_result",
          "data": {
            "text/plain": [
              "'extraer este valor'"
            ],
            "application/vnd.google.colaboratory.intrinsic+json": {
              "type": "string"
            }
          },
          "metadata": {},
          "execution_count": 31
        }
      ]
    },
    {
      "cell_type": "code",
      "source": [
        "estudiantes = {\"santiago\" : {\"edad\": 18 , \"semestre\" : 6},\n",
        "\n",
        "              \"valentina\" : {\"edad\" : 16 , \"semestre\" : 9}}\n",
        "\n",
        "if  estudiantes [\"santiago\"][\"edad\"]>18:\n",
        "  print(\"mayor de edad\")\n",
        "\n",
        "else:\n",
        "  print(\"menor de edad\")\n",
        "\n",
        "#saber la edad de una persona si es mayor de edad"
      ],
      "metadata": {
        "colab": {
          "base_uri": "https://localhost:8080/"
        },
        "id": "pJtSJBjUJYY8",
        "outputId": "2ab27c9f-a49c-43d2-e7c3-dae07842e9a6"
      },
      "execution_count": null,
      "outputs": [
        {
          "output_type": "stream",
          "name": "stdout",
          "text": [
            "menor de edad\n"
          ]
        }
      ]
    },
    {
      "cell_type": "code",
      "source": [
        "materias={\"santiago\" : {\"nota\" , 4 , \"aprobo\"},\n",
        "         \"valentina\" : {\"nota\" , 2.3 , \"reprobo\"},\n",
        "         \"nicolas\" : {\"nota\" , 1.3 , \"reprobo\"}}\n",
        "\n",
        "if materias [\"santiago\"][\"nota\"]>3:\n",
        "  print(\"aprobo la materia\")"
      ],
      "metadata": {
        "colab": {
          "base_uri": "https://localhost:8080/",
          "height": 193
        },
        "id": "5N-0UlpBLYIu",
        "outputId": "23074491-f2e2-4be6-92fa-84c7ef8658d2"
      },
      "execution_count": null,
      "outputs": [
        {
          "output_type": "error",
          "ename": "TypeError",
          "evalue": "'set' object is not subscriptable",
          "traceback": [
            "\u001b[0;31m---------------------------------------------------------------------------\u001b[0m",
            "\u001b[0;31mTypeError\u001b[0m                                 Traceback (most recent call last)",
            "\u001b[0;32m/tmp/ipython-input-4202507015.py\u001b[0m in \u001b[0;36m<cell line: 0>\u001b[0;34m()\u001b[0m\n\u001b[1;32m      3\u001b[0m          \"nicolas\" : {\"nota\" , 1.3 , \"reprobo\"}}\n\u001b[1;32m      4\u001b[0m \u001b[0;34m\u001b[0m\u001b[0m\n\u001b[0;32m----> 5\u001b[0;31m \u001b[0;32mif\u001b[0m \u001b[0mmaterias\u001b[0m \u001b[0;34m[\u001b[0m\u001b[0;34m\"santiago\"\u001b[0m\u001b[0;34m]\u001b[0m\u001b[0;34m[\u001b[0m\u001b[0;34m\"nota\"\u001b[0m\u001b[0;34m]\u001b[0m\u001b[0;34m>\u001b[0m\u001b[0;36m3\u001b[0m\u001b[0;34m:\u001b[0m\u001b[0;34m\u001b[0m\u001b[0;34m\u001b[0m\u001b[0m\n\u001b[0m\u001b[1;32m      6\u001b[0m   \u001b[0mprint\u001b[0m\u001b[0;34m(\u001b[0m\u001b[0;34m\"aprobo la materia\"\u001b[0m\u001b[0;34m)\u001b[0m\u001b[0;34m\u001b[0m\u001b[0;34m\u001b[0m\u001b[0m\n",
            "\u001b[0;31mTypeError\u001b[0m: 'set' object is not subscriptable"
          ]
        }
      ]
    }
  ]
}